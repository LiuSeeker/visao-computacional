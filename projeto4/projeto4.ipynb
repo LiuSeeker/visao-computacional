{
 "cells": [
  {
   "cell_type": "code",
   "execution_count": null,
   "metadata": {},
   "outputs": [],
   "source": [
    "%matplotlib inline\n",
    "import numpy as np\n",
    "import matplotlib.pyplot as plt\n",
    "import cv2"
   ]
  },
  {
   "cell_type": "markdown",
   "metadata": {},
   "source": [
    "Rode a célula abaixo (mude para \"Code\", por enquanto está \"Raw\") para capturar imagens."
   ]
  },
  {
   "cell_type": "raw",
   "metadata": {},
   "source": [
    "import os.path\n",
    "\n",
    "snap = 0\n",
    "\n",
    "cap = cv2.VideoCapture(0)\n",
    "\n",
    "_, frame = cap.read()\n",
    "print(frame.shape)\n",
    "while frame is not None:\n",
    "    frame = frame[:, ::-1, :]\n",
    "    \n",
    "    frame_view = frame.copy()\n",
    "    cv2.rectangle(frame_view, (220, 140), (420, 340), (0, 255, 0))\n",
    "    cv2.imshow('frame', frame_view)\n",
    "    \n",
    "\n",
    "    k = cv2.waitKey(30) & 0xff\n",
    "    if k == 27:\n",
    "        break\n",
    "    elif k == ord('s'):\n",
    "        filename = f'snap_{snap:05d}.png' \n",
    "        cv2.imwrite(filename, frame)\n",
    "        print(f'Saved {filename}')\n",
    "        snap += 1\n",
    "\n",
    "    _, frame = cap.read()\n",
    "\n",
    "cap.release()\n",
    "cv2.destroyAllWindows()"
   ]
  },
  {
   "cell_type": "markdown",
   "metadata": {},
   "source": [
    "# Projeto: Pedra-Papel-Tesoura\n",
    "\n",
    "Neste projeto vocês devem construir um sistema que captura uma imagem da camera e diz se a imagem representa uma jogada de pedra, papel ou tesoura.\n",
    "\n",
    "Projeto em duplas.\n",
    "\n",
    "Entregável: Jupyter Notebook com a demonstração do sistema funcionando, e arquivo '.joblib' com o modelo treinado.\n",
    "\n",
    "Entrega: 9/10, 23:59\n",
    "\n",
    "Rubrica:\n",
    "\n",
    "- I - Não entregou ou entregou nonsense.\n",
    "- D - Funciona, mas com bugs menores.\n",
    "- A - Funciona bem."
   ]
  },
  {
   "cell_type": "code",
   "execution_count": null,
   "metadata": {},
   "outputs": [],
   "source": []
  }
 ],
 "metadata": {
  "kernelspec": {
   "display_name": "Python 3",
   "language": "python",
   "name": "python3"
  },
  "language_info": {
   "codemirror_mode": {
    "name": "ipython",
    "version": 3
   },
   "file_extension": ".py",
   "mimetype": "text/x-python",
   "name": "python",
   "nbconvert_exporter": "python",
   "pygments_lexer": "ipython3",
   "version": "3.7.3"
  }
 },
 "nbformat": 4,
 "nbformat_minor": 4
}
